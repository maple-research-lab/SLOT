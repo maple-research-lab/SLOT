{
 "cells": [
  {
   "cell_type": "code",
   "execution_count": 1,
   "id": "80295685",
   "metadata": {},
   "outputs": [],
   "source": [
    "from safetensors.torch import load_file\n",
    "import torch"
   ]
  },
  {
   "cell_type": "code",
   "execution_count": null,
   "id": "cbd3d2ec",
   "metadata": {},
   "outputs": [],
   "source": [
    "# load the model\n",
    "model_name = \"DeepSeek-R1-Distill-Llama-70B\"\n",
    "states = load_file(f\"/storage/qiguojunLab/fangxueji/Models/deepseek-ai/{model_name}/model-00017-of-000017.safetensors\")\n",
    "# make sure 'lm_head' is in the state dict\n",
    "for k in states.keys():\n",
    "    if 'lm_head' in k:\n",
    "        print(k)\n",
    "# save the lm_head weights\n",
    "torch.save(states['model.embed_tokens.weight'], f\"./lm_head/{model_name}_lm_head.pt\")"
   ]
  },
  {
   "cell_type": "code",
   "execution_count": null,
   "id": "bbc3bad1",
   "metadata": {},
   "outputs": [],
   "source": []
  }
 ],
 "metadata": {
  "kernelspec": {
   "display_name": "flex",
   "language": "python",
   "name": "python3"
  },
  "language_info": {
   "codemirror_mode": {
    "name": "ipython",
    "version": 3
   },
   "file_extension": ".py",
   "mimetype": "text/x-python",
   "name": "python",
   "nbconvert_exporter": "python",
   "pygments_lexer": "ipython3",
   "version": "3.11.11"
  }
 },
 "nbformat": 4,
 "nbformat_minor": 5
}
